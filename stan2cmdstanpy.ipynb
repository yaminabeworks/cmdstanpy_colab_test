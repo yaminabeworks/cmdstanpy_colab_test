{
  "nbformat": 4,
  "nbformat_minor": 0,
  "metadata": {
    "colab": {
      "name": "stan2cmdstanpy.ipynb",
      "provenance": [],
      "collapsed_sections": [],
      "authorship_tag": "ABX9TyM0rNxx6fkREoLTgUKA3p6M",
      "include_colab_link": true
    },
    "kernelspec": {
      "name": "python3",
      "display_name": "Python 3"
    },
    "language_info": {
      "name": "python"
    }
  },
  "cells": [
    {
      "cell_type": "markdown",
      "metadata": {
        "id": "view-in-github",
        "colab_type": "text"
      },
      "source": [
        "<a href=\"https://colab.research.google.com/github/yaminabeworks/cmdstanpy_colab_test/blob/main/stan2cmdstanpy.ipynb\" target=\"_parent\"><img src=\"https://colab.research.google.com/assets/colab-badge.svg\" alt=\"Open In Colab\"/></a>"
      ]
    },
    {
      "cell_type": "markdown",
      "source": [
        "# CmdStanPyをcolab上で試してみたい"
      ],
      "metadata": {
        "id": "uNTrvUcjaepm"
      }
    },
    {
      "cell_type": "markdown",
      "source": [
        "## 参考サイト\n",
        "\n",
        "1.は、`CmdStanPy`環境を`Docker`で構築しているサイトで大変参考になりました。ありがとうございました。\n",
        "\n",
        "2.は、自分の書いたマジックコマンドの`writefile`を利用した記事となっています。\n",
        "\n",
        "1. https://qiita.com/amber_kshz/items/172e88e5feda1e7e3133\n",
        "\n",
        "2. https://qiita.com/yaminabeworks/items/d63620e36aae50eaa290"
      ],
      "metadata": {
        "id": "XqH3AjElai-B"
      }
    },
    {
      "cell_type": "code",
      "execution_count": 1,
      "metadata": {
        "colab": {
          "base_uri": "https://localhost:8080/"
        },
        "id": "u6paczRcXMjw",
        "outputId": "0c142ecd-853d-42c2-c1cf-c10c661cfbf9"
      },
      "outputs": [
        {
          "output_type": "stream",
          "name": "stdout",
          "text": [
            "Looking in indexes: https://pypi.org/simple, https://us-python.pkg.dev/colab-wheels/public/simple/\n",
            "Requirement already satisfied: cmdstanpy in /usr/local/lib/python3.7/dist-packages (0.9.5)\n",
            "Requirement already satisfied: numpy in /usr/local/lib/python3.7/dist-packages (from cmdstanpy) (1.21.6)\n",
            "Requirement already satisfied: pandas in /usr/local/lib/python3.7/dist-packages (from cmdstanpy) (1.3.5)\n",
            "Requirement already satisfied: python-dateutil>=2.7.3 in /usr/local/lib/python3.7/dist-packages (from pandas->cmdstanpy) (2.8.2)\n",
            "Requirement already satisfied: pytz>=2017.3 in /usr/local/lib/python3.7/dist-packages (from pandas->cmdstanpy) (2022.1)\n",
            "Requirement already satisfied: six>=1.5 in /usr/local/lib/python3.7/dist-packages (from python-dateutil>=2.7.3->pandas->cmdstanpy) (1.15.0)\n"
          ]
        }
      ],
      "source": [
        "!pip install cmdstanpy"
      ]
    },
    {
      "cell_type": "code",
      "source": [
        "import cmdstanpy\n",
        "cmdstanpy.install_cmdstan()"
      ],
      "metadata": {
        "colab": {
          "base_uri": "https://localhost:8080/"
        },
        "id": "qtsNt8elYNDJ",
        "outputId": "cee8a910-8c89-4862-be57-6e37164f8280"
      },
      "execution_count": 5,
      "outputs": [
        {
          "output_type": "stream",
          "name": "stderr",
          "text": [
            "INFO:cmdstanpy:CmdStan version: 2.29.2\n",
            "INFO:cmdstanpy:Install directory: /root/.cmdstanpy\n",
            "INFO:cmdstanpy:Downloading CmdStan version 2.29.2\n",
            "INFO:cmdstanpy:Download successful, file: /tmp/tmpj3gwsvw7\n",
            "INFO:cmdstanpy:Unpacked download as cmdstan-2.29.2\n",
            "INFO:cmdstanpy:Building cmdstan-2.29.2 binaries\n",
            "INFO:cmdstanpy:Test model compilation\n",
            "INFO:cmdstanpy:Installed cmdstan-2.29.2\n"
          ]
        },
        {
          "output_type": "execute_result",
          "data": {
            "text/plain": [
              "True"
            ]
          },
          "metadata": {},
          "execution_count": 5
        }
      ]
    },
    {
      "cell_type": "code",
      "source": [
        "%%writefile 8schools.stan\n",
        "data {\n",
        "    int<lower=0> J; // number of schools\n",
        "    vector[J] y; // estimated treatment effects\n",
        "    vector<lower=0>[J] sigma; // s.e. of effect estimates\n",
        "}\n",
        "parameters {\n",
        "    real mu;\n",
        "    real<lower=0> tau;\n",
        "    vector[J] eta;\n",
        "}\n",
        "transformed parameters {\n",
        "    vector[J] theta;\n",
        "    theta = mu + tau * eta;\n",
        "}\n",
        "model {\n",
        "    eta ~ normal(0, 1);\n",
        "    y ~ normal(theta, sigma);\n",
        "}"
      ],
      "metadata": {
        "colab": {
          "base_uri": "https://localhost:8080/"
        },
        "id": "CjJbH7xAXtq2",
        "outputId": "a5be6d7c-7dbb-455f-bfc2-13b312f9e9a4"
      },
      "execution_count": 3,
      "outputs": [
        {
          "output_type": "stream",
          "name": "stdout",
          "text": [
            "Writing 8schools.stan\n"
          ]
        }
      ]
    },
    {
      "cell_type": "code",
      "source": [
        "%%writefile 8schools.data.json\n",
        "{\n",
        "    \"J\": 8,\n",
        "    \"y\": [28,  8, -3,  7, -1,  1, 18, 12],\n",
        "    \"sigma\": [15, 10, 16, 11,  9, 11, 10, 18]\n",
        "}"
      ],
      "metadata": {
        "colab": {
          "base_uri": "https://localhost:8080/"
        },
        "id": "O5xFksM-XisB",
        "outputId": "f1b19b59-aec4-4dbf-9db6-c93daed08b72"
      },
      "execution_count": 2,
      "outputs": [
        {
          "output_type": "stream",
          "name": "stdout",
          "text": [
            "Writing 8schools.data.json\n"
          ]
        }
      ]
    },
    {
      "cell_type": "code",
      "source": [
        "from cmdstanpy import CmdStanModel\n",
        "\n",
        "\n",
        "print(\"Compile started\")\n",
        "model = CmdStanModel(stan_file=\"8schools.stan\")\n",
        "print(\"Compile finished\")\n",
        "print(model)\n",
        "print(\"========================================\")\n",
        "data = \"8schools.data.json\"\n",
        "print(\"Sampling started\")\n",
        "fit = model.sample(data=data)\n",
        "print(\"Sampling finished\")\n",
        "print(fit)"
      ],
      "metadata": {
        "colab": {
          "base_uri": "https://localhost:8080/"
        },
        "id": "vBqX0BKgXsEL",
        "outputId": "1f423011-98df-40bd-bf81-9f9773d2b48f"
      },
      "execution_count": 6,
      "outputs": [
        {
          "output_type": "stream",
          "name": "stderr",
          "text": [
            "INFO:cmdstanpy:compiling stan program, exe file: /content/8schools\n",
            "INFO:cmdstanpy:compiler options: stanc_options=None, cpp_options=None\n"
          ]
        },
        {
          "output_type": "stream",
          "name": "stdout",
          "text": [
            "Compile started\n"
          ]
        },
        {
          "output_type": "stream",
          "name": "stderr",
          "text": [
            "INFO:cmdstanpy:compiled model file: /content/8schools\n",
            "INFO:cmdstanpy:start chain 1\n",
            "INFO:cmdstanpy:finish chain 1\n",
            "INFO:cmdstanpy:start chain 2\n",
            "INFO:cmdstanpy:finish chain 2\n"
          ]
        },
        {
          "output_type": "stream",
          "name": "stdout",
          "text": [
            "Compile finished\n",
            "CmdStanModel: name=8schools\n",
            "\t stan_file=/content/8schools.stan\n",
            "\t exe_file=/content/8schools\n",
            "\t compiler_optons=stanc_options=None, cpp_options=None\n",
            "========================================\n",
            "Sampling started\n"
          ]
        },
        {
          "output_type": "stream",
          "name": "stderr",
          "text": [
            "INFO:cmdstanpy:start chain 3\n",
            "INFO:cmdstanpy:finish chain 3\n",
            "INFO:cmdstanpy:start chain 4\n",
            "INFO:cmdstanpy:finish chain 4\n"
          ]
        },
        {
          "output_type": "stream",
          "name": "stdout",
          "text": [
            "Sampling finished\n",
            "CmdStanMCMC: model=8schools chains=4['method=sample', 'algorithm=hmc', 'adapt', 'engaged=1']\n",
            " csv_files:\n",
            "\t/tmp/tmprqb4b7xz/8schools-202206181038-1-hf7p7s_5.csv\n",
            "\t/tmp/tmprqb4b7xz/8schools-202206181038-2-hye2ao3s.csv\n",
            "\t/tmp/tmprqb4b7xz/8schools-202206181038-3-85fh_j8l.csv\n",
            "\t/tmp/tmprqb4b7xz/8schools-202206181038-4-lyrke5pk.csv\n",
            " output_files:\n",
            "\t/tmp/tmprqb4b7xz/8schools-202206181038-1-hf7p7s_5-stdout.txt\n",
            "\t/tmp/tmprqb4b7xz/8schools-202206181038-2-hye2ao3s-stdout.txt\n",
            "\t/tmp/tmprqb4b7xz/8schools-202206181038-3-85fh_j8l-stdout.txt\n",
            "\t/tmp/tmprqb4b7xz/8schools-202206181038-4-lyrke5pk-stdout.txt\n"
          ]
        }
      ]
    }
  ]
}